{
  "nbformat": 4,
  "nbformat_minor": 0,
  "metadata": {
    "colab": {
      "name": "Youtube_scraping.ipynb",
      "provenance": [],
      "collapsed_sections": []
    },
    "kernelspec": {
      "name": "python3",
      "display_name": "Python 3"
    }
  },
  "cells": [
    {
      "cell_type": "markdown",
      "metadata": {
        "id": "hqLEG-mb1AL3"
      },
      "source": [
        "# How to download YouTube Subtitles for Semantic Brand Score Analysis\n",
        "\n",
        "**The main steps in this notebook are:**\n",
        "\n",
        "* Download the subtitles file(s)\n",
        "* Convert to a text file\n",
        "* Clean the text and remove duplications\n",
        "* Export to a text file\n",
        "\n",
        "\n",
        "**Subtitle Settings available via youtube-dl:**\n",
        "\n",
        "* --write-sub (Write subtitle file)\n",
        "* --write-auto-sub (Write automatic subtitle file (YouTube only))\n",
        "* --all-subs (Download all the available subtitles of the video)\n",
        "* --list-subs (List all available subtitles for the video)\n",
        "* --sub-format (FORMAT Subtitle format, accepts formats preference, for example: \"srt\" or \"ass/srt/best\")\n",
        "* --sub-lang LANGS (Languages of the subtitles to download (optional) separated by commas, use IETF language tags like 'en,pt')"
      ]
    },
    {
      "cell_type": "code",
      "metadata": {
        "id": "VvHfnFYE0zAU",
        "colab": {
          "base_uri": "https://localhost:8080/"
        },
        "outputId": "a6d309dc-b389-4819-96b9-1cf5977454ce"
      },
      "source": [
        "#Download module to your Colab\n",
        "!pip install youtube-dl"
      ],
      "execution_count": null,
      "outputs": [
        {
          "output_type": "stream",
          "name": "stdout",
          "text": [
            "Collecting youtube-dl\n",
            "  Downloading youtube_dl-2021.6.6-py2.py3-none-any.whl (1.9 MB)\n",
            "\u001b[K     |████████████████████████████████| 1.9 MB 22.4 MB/s \n",
            "\u001b[?25hInstalling collected packages: youtube-dl\n",
            "Successfully installed youtube-dl-2021.6.6\n"
          ]
        }
      ]
    },
    {
      "cell_type": "markdown",
      "metadata": {
        "id": "oMqrF69c007K"
      },
      "source": [
        "# Insert YouTube URL and Subtitles Settings"
      ]
    },
    {
      "cell_type": "code",
      "metadata": {
        "id": "856povvA19Zy",
        "colab": {
          "base_uri": "https://localhost:8080/"
        },
        "outputId": "884f9cab-fd29-4c2c-f453-d0bd571f64c5"
      },
      "source": [
        "from __future__ import unicode_literals\n",
        "import youtube_dl\n",
        "\n",
        "ydl_opts = {\n",
        "'writesubtitles': True,\n",
        "'writeautomaticsub': True,\n",
        "'subtitle': '--write-sub --sub-lang en',\n",
        "'skip_download': True, \n",
        "}\n",
        "url = input(\"Please add YouTube link here:\")\n",
        "with youtube_dl.YoutubeDL(ydl_opts) as ydl:\n",
        "    ydl.download([url])\n",
        "print(\"Download Successful!\")"
      ],
      "execution_count": null,
      "outputs": [
        {
          "output_type": "stream",
          "name": "stdout",
          "text": [
            "Please add YouTube link here:https://www.youtube.com/watch?v=bkEKImUIg60\n",
            "[youtube] bkEKImUIg60: Downloading webpage\n",
            "[info] Writing video subtitles to: Crypto News - Polygon, ETH, Evergrande, Crypto CEOs & MORE!!-bkEKImUIg60.en.vtt\n",
            "Download Successful!\n"
          ]
        }
      ]
    },
    {
      "cell_type": "markdown",
      "metadata": {
        "id": "-BJZvWzmylBD"
      },
      "source": [
        "We can extract YouTube's automated subtitles.\n"
      ]
    },
    {
      "cell_type": "markdown",
      "metadata": {
        "id": "d1XZz1_x07jR"
      },
      "source": [
        "# Convert Subtitles file to Text File"
      ]
    },
    {
      "cell_type": "code",
      "metadata": {
        "id": "Ov0DWSxW2YzC",
        "colab": {
          "base_uri": "https://localhost:8080/"
        },
        "outputId": "2118b093-1b59-4d5c-8905-2ee980b2f1d3"
      },
      "source": [
        "#https://github.com/glut23/webvtt-py\n",
        "!pip install webvtt-py\n",
        "import webvtt"
      ],
      "execution_count": null,
      "outputs": [
        {
          "output_type": "stream",
          "name": "stdout",
          "text": [
            "Collecting webvtt-py\n",
            "  Downloading webvtt_py-0.4.6-py3-none-any.whl (16 kB)\n",
            "Requirement already satisfied: docopt in /usr/local/lib/python3.7/dist-packages (from webvtt-py) (0.6.2)\n",
            "Installing collected packages: webvtt-py\n",
            "Successfully installed webvtt-py-0.4.6\n"
          ]
        }
      ]
    },
    {
      "cell_type": "code",
      "metadata": {
        "id": "ypAnO-_t2fRj",
        "colab": {
          "base_uri": "https://localhost:8080/"
        },
        "outputId": "369345d6-bdd5-4567-a6f9-73c2bbc3659d"
      },
      "source": [
        "#Copy the path of thwe downloaded subtitles file here\n",
        "file = \"/content/Crypto News - Polygon, ETH, Evergrande, Crypto CEOs & MORE!!-bkEKImUIg60.en.vtt\"\n",
        "#Read the webvtt Subtitles file\n",
        "vtt = webvtt.read(file) \n",
        "counter = 0\n",
        "for i in range(len(vtt)):\n",
        "  if counter < 10:\n",
        "    print(vtt[i].text)\n",
        "    counter+=1"
      ],
      "execution_count": null,
      "outputs": [
        {
          "output_type": "stream",
          "name": "stdout",
          "text": [
            " \n",
            "[Music]\n",
            "[Music]\n",
            " \n",
            "[Music]\n",
            "welcome to the coin bureau weekly crypto\n",
            "welcome to the coin bureau weekly crypto\n",
            " \n",
            "welcome to the coin bureau weekly crypto\n",
            "review here are this week's top\n",
            "review here are this week's top\n",
            " \n",
            "review here are this week's top\n",
            "headlines in the crypto news\n",
            "headlines in the crypto news\n",
            " \n",
            "headlines in the crypto news\n",
            "[Music]\n",
            "[Music]\n",
            " \n"
          ]
        }
      ]
    },
    {
      "cell_type": "markdown",
      "metadata": {
        "id": "EpH0MLqo0xRM"
      },
      "source": [
        "# Remove duplicates from Subtitles\n",
        "\n",
        "Above you should see duplicates if you have downloaded the automated subtitles.\n",
        "\n",
        "The code below will remove duplicates but if there's no duplicates, it will just organise the text into one paragraph."
      ]
    },
    {
      "cell_type": "code",
      "metadata": {
        "id": "Vlw5jP5f2lQ4"
      },
      "source": [
        "#I want to convert YouTube’s auto-generated subtitles into a plain transcript.\n",
        "#https://stackoverflow.com/questions/51784232/how-do-i-convert-the-webvtt-format-to-plain-text\n",
        "\n",
        "# import webvtt\n",
        "# vtt = webvtt.read('subtitles.vtt')\n",
        "transcript = \"\"\n",
        "\n",
        "lines = []\n",
        "for line in vtt:\n",
        "    # Strip the newlines from the end of the text.\n",
        "    # Split the string if it has a newline in the middle\n",
        "    # Add the lines to an array\n",
        "    lines.extend(line.text.strip().splitlines())\n",
        "\n",
        "# Remove repeated lines\n",
        "previous = None\n",
        "for line in lines:\n",
        "    if line == previous:\n",
        "       continue\n",
        "    transcript += \" \" + line\n",
        "    previous = line\n",
        "\n",
        "print(transcript)"
      ],
      "execution_count": null,
      "outputs": []
    },
    {
      "cell_type": "markdown",
      "metadata": {
        "id": "VIzjHKw22TaW"
      },
      "source": [
        "# Save to Text File"
      ]
    },
    {
      "cell_type": "code",
      "metadata": {
        "id": "sq2xMRom2o3B"
      },
      "source": [
        "text_file = open(\"Text_File_Name_Edit_Here.txt\", \"w\")\n",
        "n = text_file.write(transcript)\n",
        "text_file.close()"
      ],
      "execution_count": null,
      "outputs": []
    }
  ]
}